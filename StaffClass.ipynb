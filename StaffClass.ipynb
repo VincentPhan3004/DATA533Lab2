{
 "cells": [
  {
   "cell_type": "code",
   "execution_count": 2,
   "metadata": {},
   "outputs": [
    {
     "ename": "NameError",
     "evalue": "name 'FnB' is not defined",
     "output_type": "error",
     "traceback": [
      "\u001b[0;31m---------------------------------------------------------------------------\u001b[0m",
      "\u001b[0;31mNameError\u001b[0m                                 Traceback (most recent call last)",
      "\u001b[0;32m<ipython-input-2-f0de8a1eae69>\u001b[0m in \u001b[0;36m<module>\u001b[0;34m\u001b[0m\n\u001b[1;32m     19\u001b[0m \u001b[0;34m\u001b[0m\u001b[0m\n\u001b[1;32m     20\u001b[0m \u001b[0;34m\u001b[0m\u001b[0m\n\u001b[0;32m---> 21\u001b[0;31m \u001b[0;32mclass\u001b[0m \u001b[0mManagement\u001b[0m\u001b[0;34m(\u001b[0m\u001b[0mFnB\u001b[0m\u001b[0;34m)\u001b[0m\u001b[0;34m:\u001b[0m\u001b[0;34m\u001b[0m\u001b[0;34m\u001b[0m\u001b[0m\n\u001b[0m\u001b[1;32m     22\u001b[0m     \u001b[0;32mdef\u001b[0m \u001b[0m__init__\u001b[0m\u001b[0;34m(\u001b[0m\u001b[0min_store_staff\u001b[0m\u001b[0;34m,\u001b[0m \u001b[0maddress\u001b[0m\u001b[0;34m,\u001b[0m \u001b[0marea\u001b[0m\u001b[0;34m,\u001b[0m \u001b[0mrevenue\u001b[0m\u001b[0;34m,\u001b[0m \u001b[0mstaff_list\u001b[0m\u001b[0;34m)\u001b[0m\u001b[0;34m:\u001b[0m\u001b[0;34m\u001b[0m\u001b[0;34m\u001b[0m\u001b[0m\n\u001b[1;32m     23\u001b[0m         \u001b[0mFnB\u001b[0m\u001b[0;34m.\u001b[0m\u001b[0m__init__\u001b[0m\u001b[0;34m(\u001b[0m\u001b[0min_store_staff\u001b[0m\u001b[0;34m,\u001b[0m \u001b[0maddress\u001b[0m\u001b[0;34m,\u001b[0m \u001b[0marea\u001b[0m\u001b[0;34m,\u001b[0m \u001b[0mrevenue\u001b[0m\u001b[0;34m)\u001b[0m\u001b[0;34m\u001b[0m\u001b[0;34m\u001b[0m\u001b[0m\n",
      "\u001b[0;31mNameError\u001b[0m: name 'FnB' is not defined"
     ]
    }
   ],
   "source": [
    "class Staff:\n",
    "    staffcount=0\n",
    "    def __init__(self, name, ID, title, store_name, supervisor, salary, entry_year, last_promotion_year):\n",
    "        self.name=name\n",
    "        self.ID=ID\n",
    "        self.title=title\n",
    "        self.store_name=store_name\n",
    "        self.supervisor=supervisor\n",
    "        self.salary=salary\n",
    "        self.entry_year=entry_year\n",
    "        self.last_promotion_year=last_promotion_year\n",
    "        staff.staffcount+=1\n",
    "    \n",
    "    def displayCount(self):\n",
    "        print(\"Total staff members: \", staff.staffcount)\n",
    "    \n",
    "    def displayStaff(self):\n",
    "        print(\"name: \", self.name, \"ID: \", self.ID, \"title: \", self.title, \"store name: \", self.store_name, \"supervisor: \", self.supervisor, \"salary\", self.salary, \"entry year\", self.entry_year, \"last promotion year\", self.last_promotion_year)\n",
    "        \n",
    "\n",
    "class Management(FnB):\n",
    "    def __init__(in_store_staff, address, area, revenue, staff_list):\n",
    "        FnB.__init__(in_store_staff, address, area, revenue)\n",
    "        self.staff_list=staff_list\n",
    "    \n",
    "    def display(self):\n",
    "        FnB.displayFnB(self)\n",
    "        print(\"staff list: \", self.staff_list)\n",
    "    "
   ]
  },
  {
   "cell_type": "code",
   "execution_count": null,
   "metadata": {},
   "outputs": [],
   "source": []
  }
 ],
 "metadata": {
  "kernelspec": {
   "display_name": "Python 3",
   "language": "python",
   "name": "python3"
  },
  "language_info": {
   "codemirror_mode": {
    "name": "ipython",
    "version": 3
   },
   "file_extension": ".py",
   "mimetype": "text/x-python",
   "name": "python",
   "nbconvert_exporter": "python",
   "pygments_lexer": "ipython3",
   "version": "3.7.3"
  }
 },
 "nbformat": 4,
 "nbformat_minor": 2
}

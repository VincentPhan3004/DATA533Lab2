{
 "cells": [
  {
   "cell_type": "code",
   "execution_count": null,
   "metadata": {},
   "outputs": [],
   "source": [
    "class Staff:\n",
    "    staffcount=0\n",
    "    def __init__(self, name, ID, title, store_name, supervisor, salary, entry_year, last_promotion_year):\n",
    "        self.name=name\n",
    "        self.ID=ID\n",
    "        self.title=title\n",
    "        self.store_name=store_name\n",
    "        self.supervisor=supervisor\n",
    "        self.salary=salary\n",
    "        self.entry_year=entry_year\n",
    "        self.last_promotion_year=last_promotion_year\n",
    "        Staff.staffcount+=1\n",
    "    \n",
    "    def displayCount(self):\n",
    "        print(\"Total staff members: %d\", % Staff.staffcount)\n",
    "    \n",
    "    def displayStaff(self):\n",
    "        print(\"name: \", self.name, \"ID: \", self.ID, \"title: \", self.title, \"store name: \", self.store_name, \"supervisor: \", self.supervisor, \"salary\", self.salary, \"entry year\", self.entry_year, \"last promotion year\", self.last_promotion_year)\n",
    "        \n",
    "\n",
    "class Management(FnB):\n",
    "    def __init__(xxx, stafflist):\n",
    "        FnB.__init__(xxx)\n",
    "        self.stafflist=stafflist\n",
    "    \n",
    "    def display(self):\n",
    "        FnB.display(self)\n",
    "        #print statement here\n",
    "    "
   ]
  }
 ],
 "metadata": {
  "kernelspec": {
   "display_name": "Python 3",
   "language": "python",
   "name": "python3"
  },
  "language_info": {
   "codemirror_mode": {
    "name": "ipython",
    "version": 3
   },
   "file_extension": ".py",
   "mimetype": "text/x-python",
   "name": "python",
   "nbconvert_exporter": "python",
   "pygments_lexer": "ipython3",
   "version": "3.7.3"
  }
 },
 "nbformat": 4,
 "nbformat_minor": 2
}

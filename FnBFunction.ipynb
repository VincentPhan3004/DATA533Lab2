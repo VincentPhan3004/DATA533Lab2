{
 "cells": [
  {
   "cell_type": "code",
   "execution_count": 5,
   "metadata": {},
   "outputs": [],
   "source": [
    "import numpy as np\n",
    "import matplotlib.pyplot as plt\n",
    "\n",
    "def compare(FnB_A,FnB_B): #show a bar plot with the revenues of FnB business\n",
    "    profitrateA = FnB_A.revenue/FnB_A.area\n",
    "    profitrateB = FnB_B.revenue/FnB_B.area\n",
    "    if profitrateA >= profitrateB:\n",
    "        return FnB_A\n",
    "    else:\n",
    "        return FnB_B\n",
    "    \n",
    "def staffTransfer(FnB_A,FnB_B,n): #transfer n staffs from group B to group A\n",
    "    if n > FnB_B.staffnum or n<0:\n",
    "        print(\"Can not implement the process\")\n",
    "        return False\n",
    "    else:\n",
    "       FnB_A.staffnum += n\n",
    "       FnB_B.staffnum -= n\n",
    "       return True\n",
    "\n",
    "    "
   ]
  },
  {
   "cell_type": "code",
   "execution_count": 7,
   "metadata": {},
   "outputs": [
    {
     "name": "stdout",
     "output_type": "stream",
     "text": [
      "Address:  145 Ponto road Area:  145 Revenue:  135000 Number of staff:  10\n",
      "Address:  129 King street Area:  25 Revenue:  85000 Number of staff:  3\n",
      "Delivery channel:  UberEat\n",
      "Restaurant 1: 10   Restaurant 2: 3\n",
      "Restaurant 1: 8   Restaurant 2: 5\n"
     ]
    }
   ],
   "source": [
    "from FnBClass import *\n",
    "Timhortons_Kelowna = FnB(\"145 Ponto road\", 145, 135000, 10)\n",
    "Timhortons_Kelowna.info()\n",
    "NumberOneKFC = DeliveryFnB(\"129 King street\", 25, 85000, 3,\"UberEat\")\n",
    "NumberOneKFC.info()\n",
    "\n",
    "print(\"Restaurant 1:\",Timhortons_Kelowna.staffnum,\" \", \"Restaurant 2:\",NumberOneKFC.staffnum)\n",
    "if staffTransfer(NumberOneKFC,Timhortons_Kelowna,2) == 1:\n",
    "    print(\"Restaurant 1:\",Timhortons_Kelowna.staffnum,\" \", \"Restaurant 2:\",NumberOneKFC.staffnum)"
   ]
  }
 ],
 "metadata": {
  "kernelspec": {
   "display_name": "Python 3",
   "language": "python",
   "name": "python3"
  },
  "language_info": {
   "codemirror_mode": {
    "name": "ipython",
    "version": 3
   },
   "file_extension": ".py",
   "mimetype": "text/x-python",
   "name": "python",
   "nbconvert_exporter": "python",
   "pygments_lexer": "ipython3",
   "version": "3.7.3"
  }
 },
 "nbformat": 4,
 "nbformat_minor": 2
}

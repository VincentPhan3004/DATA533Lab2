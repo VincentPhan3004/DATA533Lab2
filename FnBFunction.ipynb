{
 "cells": [
  {
   "cell_type": "code",
   "execution_count": null,
   "metadata": {},
   "outputs": [],
   "source": [
    "import numpy as np\n",
    "import matplotlib.pyplot as plt\n",
    "\n",
    "def compareRevenue(a,b): #show a bar plot with the revenues of FnB business\n",
    "    #not sure how to pass a list into the function\n",
    "    revenues=[] #a list\n",
    "    bars = ('A', 'B',) #business A and B\n",
    "    y_pos = np.arange(len(bars))\n",
    "    plt.bar(y_pos, height, align='center', alpha=0.5)  #Create bars\n",
    "    plt.xticks(y_pos, bars) #Create names on the x-axis\n",
    "    plt.ylabel('Revenue')\n",
    "    plt.title('Business')\n",
    "    plt.show() #Show graphic\n",
    "\n",
    "def staffTransfer(a, b, n): #transfer n staffs from group B to group A\n",
    "    \n",
    "    "
   ]
  }
 ],
 "metadata": {
  "kernelspec": {
   "display_name": "Python 3",
   "language": "python",
   "name": "python3"
  },
  "language_info": {
   "codemirror_mode": {
    "name": "ipython",
    "version": 3
   },
   "file_extension": ".py",
   "mimetype": "text/x-python",
   "name": "python",
   "nbconvert_exporter": "python",
   "pygments_lexer": "ipython3",
   "version": "3.7.3"
  }
 },
 "nbformat": 4,
 "nbformat_minor": 2
}

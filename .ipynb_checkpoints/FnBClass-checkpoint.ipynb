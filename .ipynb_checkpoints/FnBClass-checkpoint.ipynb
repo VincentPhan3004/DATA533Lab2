{
 "cells": [
  {
   "cell_type": "code",
   "execution_count": 24,
   "metadata": {},
   "outputs": [],
   "source": [
    "class FnB:\n",
    "    def __init__(self,address, area, revenue, staffnum):\n",
    "        self.address  = address\n",
    "        self.area     = area\n",
    "        self.revenue  = revenue\n",
    "        self.staffnum = staffnum\n",
    "    def info(self):\n",
    "        print(\"Address: \", self.address, \"Area: \", self.area, \"Revenue: \", self.revenue, \"Number of staff: \", self.staffnum)\n",
    "        \n",
    "\n",
    "class DeliveryFnB(FnB):\n",
    "    def __init__(self,address, area, revenue, staffnum, delivery_channel):\n",
    "        FnB.__init__(self,address, area, revenue, staffnum)\n",
    "        self.delivery_channel=delivery_channel\n",
    "    def info(self):\n",
    "        FnB.info(self)\n",
    "        print(\"Delivery channel: \", self.delivery_channel)\n",
    "    \n",
    "    \n",
    "    "
   ]
  },
  {
   "cell_type": "code",
   "execution_count": 7,
   "metadata": {},
   "outputs": [
    {
     "name": "stdout",
     "output_type": "stream",
     "text": [
      "Address:  145 Ponto road Area:  145 Revenue:  135000 Number of staff:  10\n"
     ]
    }
   ],
   "source": [
    "# Initial FnB class and DeliveryFnB class\n",
    "\n",
    "Timhortons_Kelowna = FnB(\"145 Ponto road\", 145, 135000, 10)\n",
    "Timhortons_Kelowna.info()"
   ]
  },
  {
   "cell_type": "code",
   "execution_count": null,
   "metadata": {},
   "outputs": [],
   "source": [
    "# Initial DeliveryFnB class"
   ]
  },
  {
   "cell_type": "code",
   "execution_count": 25,
   "metadata": {},
   "outputs": [
    {
     "name": "stdout",
     "output_type": "stream",
     "text": [
      "Address:  129 King street Area:  25 Revenue:  85000 Number of staff:  3\n",
      "Delivery channel:  UberEat\n"
     ]
    }
   ],
   "source": [
    "NumberOneKFC = DeliveryFnB(\"129 King street\", 25, 85000, 3,\"UberEat\")\n",
    "NumberOneKFC.info()"
   ]
  }
 ],
 "metadata": {
  "kernelspec": {
   "display_name": "Python 3",
   "language": "python",
   "name": "python3"
  },
  "language_info": {
   "codemirror_mode": {
    "name": "ipython",
    "version": 3
   },
   "file_extension": ".py",
   "mimetype": "text/x-python",
   "name": "python",
   "nbconvert_exporter": "python",
   "pygments_lexer": "ipython3",
   "version": "3.7.3"
  }
 },
 "nbformat": 4,
 "nbformat_minor": 2
}

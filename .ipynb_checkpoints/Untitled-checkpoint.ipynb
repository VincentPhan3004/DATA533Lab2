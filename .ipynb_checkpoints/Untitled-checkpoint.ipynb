{
 "cells": [
  {
   "cell_type": "code",
   "execution_count": null,
   "metadata": {},
   "outputs": [],
   "source": [
    "from FnBClass import *\n",
    "from FnBFunction import *\n",
    "\n",
    "# Initial FnB class and DeliveryFnB class\n",
    "Timhortons_Kelowna = FnB(\"145 Ponto road\", 145, 135000, 10)\n",
    "Timhortons_Kelowna.info()"
   ]
  },
  {
   "cell_type": "code",
   "execution_count": null,
   "metadata": {},
   "outputs": [],
   "source": [
    "# Initial DeliveryFnB class\n",
    "NumberOneKFC = DeliveryFnB(\"129 King street\", 25, 85000, 3,\"UberEat\")\n",
    "NumberOneKFC.info()"
   ]
  },
  {
   "cell_type": "code",
   "execution_count": null,
   "metadata": {},
   "outputs": [],
   "source": [
    "# Using compare function\n",
    "BetterRestaurant = compare(Timhortons_Kelowna,NumberOneKFC)\n",
    "BetterRestaurant.info()\n",
    "\n"
   ]
  },
  {
   "cell_type": "code",
   "execution_count": null,
   "metadata": {},
   "outputs": [],
   "source": [
    "# Using transfer function\n",
    "print(\"Restaurant 1\":Timhortons_Kelowna.staffnum,\" \", \"Restaurant 2:\",NumberOneKFC.staffnum)\n",
    "if staffTransfer(NumberOneKFC,Timhortons_Kelowna,2) == 1:\n",
    "    print(\"Restaurant 1\":Timhortons_Kelowna.staffnum,\" \", \"Restaurant 2:\",NumberOneKFC.staffnum)\n",
    "\n"
   ]
  }
 ],
 "metadata": {
  "kernelspec": {
   "display_name": "Python 3",
   "language": "python",
   "name": "python3"
  },
  "language_info": {
   "codemirror_mode": {
    "name": "ipython",
    "version": 3
   },
   "file_extension": ".py",
   "mimetype": "text/x-python",
   "name": "python",
   "nbconvert_exporter": "python",
   "pygments_lexer": "ipython3",
   "version": "3.7.3"
  }
 },
 "nbformat": 4,
 "nbformat_minor": 2
}

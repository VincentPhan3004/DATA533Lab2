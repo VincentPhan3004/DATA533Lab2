{
 "cells": [
  {
   "cell_type": "code",
   "execution_count": 8,
   "metadata": {},
   "outputs": [
    {
     "name": "stdout",
     "output_type": "stream",
     "text": [
      "Address:  145 Ponto road Area:  145 Revenue:  135000 Number of staff:  10\n"
     ]
    }
   ],
   "source": [
    "from FnBClass import *\n",
    "from FnBFunction import *\n",
    "\n",
    "# Initial FnB class and DeliveryFnB class\n",
    "Timhortons_Kelowna = FnB(\"145 Ponto road\", 145, 135000, 10)\n",
    "Timhortons_Kelowna.info()"
   ]
  },
  {
   "cell_type": "code",
   "execution_count": 9,
   "metadata": {},
   "outputs": [
    {
     "name": "stdout",
     "output_type": "stream",
     "text": [
      "Address:  129 King street Area:  25 Revenue:  85000 Number of staff:  3\n",
      "Delivery channel:  UberEat\n"
     ]
    }
   ],
   "source": [
    "# Initial DeliveryFnB class\n",
    "NumberOneKFC = DeliveryFnB(\"129 King street\", 25, 85000, 3,\"UberEat\")\n",
    "NumberOneKFC.info()"
   ]
  },
  {
   "cell_type": "code",
   "execution_count": 10,
   "metadata": {},
   "outputs": [
    {
     "name": "stdout",
     "output_type": "stream",
     "text": [
      "Address:  129 King street Area:  25 Revenue:  85000 Number of staff:  3\n",
      "Delivery channel:  UberEat\n"
     ]
    }
   ],
   "source": [
    "# Using compare function\n",
    "BetterRestaurant = compare(Timhortons_Kelowna,NumberOneKFC)\n",
    "BetterRestaurant.info()\n",
    "\n"
   ]
  },
  {
   "cell_type": "code",
   "execution_count": 5,
   "metadata": {},
   "outputs": [
    {
     "name": "stdout",
     "output_type": "stream",
     "text": [
      "Restaurant 1: 8   Restaurant 2: 5\n",
      "Restaurant 1: 6   Restaurant 2: 7\n"
     ]
    }
   ],
   "source": [
    "# Using transfer function\n",
    "print(\"Restaurant 1:\",Timhortons_Kelowna.staffnum,\" \", \"Restaurant 2:\",NumberOneKFC.staffnum)\n",
    "if staffTransfer(NumberOneKFC,Timhortons_Kelowna,2) == 1:\n",
    "    print(\"Restaurant 1:\",Timhortons_Kelowna.staffnum,\" \", \"Restaurant 2:\",NumberOneKFC.staffnum)\n",
    "\n"
   ]
  }
 ],
 "metadata": {
  "kernelspec": {
   "display_name": "Python 3",
   "language": "python",
   "name": "python3"
  },
  "language_info": {
   "codemirror_mode": {
    "name": "ipython",
    "version": 3
   },
   "file_extension": ".py",
   "mimetype": "text/x-python",
   "name": "python",
   "nbconvert_exporter": "python",
   "pygments_lexer": "ipython3",
   "version": "3.7.3"
  }
 },
 "nbformat": 4,
 "nbformat_minor": 2
}

{
 "cells": [
  {
   "cell_type": "code",
   "execution_count": 8,
   "metadata": {},
   "outputs": [],
   "source": [
    "# TEST FILE\n",
    "\n",
    "from HR.StaffClass import *\n",
    "\n"
   ]
  },
  {
   "cell_type": "code",
   "execution_count": 9,
   "metadata": {},
   "outputs": [
    {
     "name": "stdout",
     "output_type": "stream",
     "text": [
      "ID:  12345\n",
      "Name:  Jim\n",
      "Title:  Cashier\n",
      "Supervisor:  Catherine\n",
      "Salary:  50000\n",
      "Entry year:  2013\n",
      "Last promotion year:  2015\n",
      "Store name:  Tim Hortons\n",
      "\n",
      "ID:  12345\n",
      "Name:  Jim\n",
      "Title:  Cashier\n",
      "Supervisor:  Catherine\n",
      "Salary:  50000\n",
      "Entry year:  2013\n",
      "Last promotion year:  2015\n",
      "Store name:  Tim Hortons\n",
      "\n",
      "Staff list (ID):  [34243, 56154]\n"
     ]
    }
   ],
   "source": [
    "\n",
    "\n",
    "#Initial Staff class\n",
    "Jim=Staff(12345, \"Jim\", \"Cashier\", \"Catherine\", 50000, 2013, 2015, \"Tim Hortons\")\n",
    "Jim.info()\n",
    "\n",
    "\n",
    "\n",
    "\n",
    "#Initial Manager class\n",
    "NumberOneKFC = Manager(12345, \"Jim\", \"Cashier\", \"Catherine\", 50000, 2013, 2015, \"Tim Hortons\",[34243,56154])\n",
    "NumberOneKFC.info()\n",
    "\n",
    "\n",
    "# In[ ]:\n",
    "\n",
    "\n",
    "\n",
    "\n"
   ]
  }
 ],
 "metadata": {
  "file_extension": ".py",
  "kernelspec": {
   "display_name": "Python 3",
   "language": "python",
   "name": "python3"
  },
  "language_info": {
   "codemirror_mode": {
    "name": "ipython",
    "version": 3
   },
   "file_extension": ".py",
   "mimetype": "text/x-python",
   "name": "python",
   "nbconvert_exporter": "python",
   "pygments_lexer": "ipython3",
   "version": "3.7.3"
  },
  "mimetype": "text/x-python",
  "name": "python",
  "npconvert_exporter": "python",
  "pygments_lexer": "ipython3",
  "version": 3
 },
 "nbformat": 4,
 "nbformat_minor": 2
}

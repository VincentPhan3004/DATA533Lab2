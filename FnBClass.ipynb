{
 "cells": [
  {
   "cell_type": "code",
   "execution_count": 1,
   "metadata": {},
   "outputs": [],
   "source": [
    "class FnB:\n",
    "    def __init__(in_store_staff, address, area, revenue):\n",
    "        self.in_store_staff=in_store_staff\n",
    "        self.address=address\n",
    "        self.area=area\n",
    "        self.revenue=revenue\n",
    "    \n",
    "    def displayFnB(self):\n",
    "        print(\"In store staff: \", self.self.in_store_staff, \"address: \", self.address, \"area: \", self.area, \"revenue: \", self.revenue)\n",
    "        \n",
    "\n",
    "class DeliveryBusiness(FnB):\n",
    "    def __init__(in_store_staff, address, area, revenue, delivery_channel):\n",
    "        FnB.__init__(in_store_staff, address, area, revenue)\n",
    "        self.delivery_channel=delivery_channel\n",
    "    \n",
    "    def displayDeliveryBusiness(self):\n",
    "        FnB.displayFnB(self)\n",
    "        print(\"delivery channel: \", self.delivery_channel)\n",
    "    \n",
    "    \n",
    "    "
   ]
  },
  {
   "cell_type": "code",
   "execution_count": null,
   "metadata": {},
   "outputs": [],
   "source": []
  }
 ],
 "metadata": {
  "kernelspec": {
   "display_name": "Python 3",
   "language": "python",
   "name": "python3"
  },
  "language_info": {
   "codemirror_mode": {
    "name": "ipython",
    "version": 3
   },
   "file_extension": ".py",
   "mimetype": "text/x-python",
   "name": "python",
   "nbconvert_exporter": "python",
   "pygments_lexer": "ipython3",
   "version": "3.7.3"
  }
 },
 "nbformat": 4,
 "nbformat_minor": 2
}

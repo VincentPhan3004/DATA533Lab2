{
 "cells": [
  {
   "cell_type": "code",
   "execution_count": 26,
   "metadata": {},
   "outputs": [],
   "source": [
    "class FnB:\n",
    "    def __init__(self,address, area, revenue, staffnum):\n",
    "        self.address  = address\n",
    "        self.area     = area\n",
    "        self.revenue  = revenue\n",
    "        self.staffnum = staffnum\n",
    "    def info(self):\n",
    "        print(\"Address: \", self.address, \"Area: \", self.area, \"Revenue: \", self.revenue, \"Number of staff: \", self.staffnum)\n",
    "        \n",
    "\n",
    "class DeliveryFnB(FnB):\n",
    "    def __init__(self,address, area, revenue, staffnum, delivery_channel):\n",
    "        FnB.__init__(self,address, area, revenue, staffnum)\n",
    "        self.delivery_channel=delivery_channel\n",
    "    def info(self):\n",
    "        FnB.info(self)\n",
    "        print(\"Delivery channel: \", self.delivery_channel)\n",
    "    \n",
    "    \n",
    "    "
   ]
  }
 ],
 "metadata": {
  "kernelspec": {
   "display_name": "Python 3",
   "language": "python",
   "name": "python3"
  },
  "language_info": {
   "codemirror_mode": {
    "name": "ipython",
    "version": 3
   },
   "file_extension": ".py",
   "mimetype": "text/x-python",
   "name": "python",
   "nbconvert_exporter": "python",
   "pygments_lexer": "ipython3",
   "version": "3.7.3"
  }
 },
 "nbformat": 4,
 "nbformat_minor": 2
}

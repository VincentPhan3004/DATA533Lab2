{
 "cells": [
  {
   "cell_type": "code",
   "execution_count": 1,
   "metadata": {},
   "outputs": [],
   "source": [
    "# TEST FILE\n",
    "from FnB.HR.StaffClass import *\n",
    "from FnB.HR.HRFunction import *\n",
    "from FnB.OP.FnBClass import *\n",
    "from FnB.OP.FnBFunction import *"
   ]
  },
  {
   "cell_type": "code",
   "execution_count": 2,
   "metadata": {},
   "outputs": [
    {
     "name": "stdout",
     "output_type": "stream",
     "text": [
      "ID:  12345\n",
      "Name:  Jim\n",
      "Title:  Cashier\n",
      "SupervisorID:  42345\n",
      "Salary:  50000\n",
      "Entry year:  2017\n",
      "Last promotion year:  2017\n",
      "Store name:  Tim Hortons\n",
      "\n",
      "ID:  12345\n",
      "Name:  Jim\n",
      "Title:  Cashier\n",
      "SupervisorID:  42345\n",
      "Salary:  50000\n",
      "Entry year:  2017\n",
      "Last promotion year:  2017\n",
      "Store name:  Tim Hortons\n",
      "\n",
      "ID:  42345\n",
      "Name:  Tony\n",
      "Title:  Cashier\n",
      "SupervisorID:  23286\n",
      "Salary:  50000\n",
      "Entry year:  2016\n",
      "Last promotion year:  2018\n",
      "Store name:  Tim Hortons\n",
      "\n",
      "Staff list (ID):  [34243, 56154]\n"
     ]
    }
   ],
   "source": [
    "# Testing module StaffClass in subpackage HR of module FnB\n",
    "\n",
    "#Initial Staff class\n",
    "Jim=Staff(12345, \"Jim\", \"Cashier\", 42345, 50000, 2017, 2017, \"Tim Hortons\")\n",
    "Jim.info()\n",
    "\n",
    "Eva=Staff(32355, \"Eva\", \"Cashier\", 42345, 50000, 2015, 2016, \"Tim Hortons\")\n",
    "Jim.info()\n",
    "\n",
    "#Initial Manager class\n",
    "Tony = Manager(42345, \"Tony\", \"Cashier\", 23286, 50000, 2016, 2018, \"Tim Hortons\",[34243,56154])\n",
    "Tony.info()\n"
   ]
  },
  {
   "cell_type": "code",
   "execution_count": 3,
   "metadata": {},
   "outputs": [
    {
     "name": "stdout",
     "output_type": "stream",
     "text": [
      "[12345, 32355]\n",
      "[32355]\n"
     ]
    }
   ],
   "source": [
    "# Testing module HRFunction in subpackage HR of module FnB\n",
    "\n",
    "Promotelist = promoteCheck([Jim,Eva,Tony])\n",
    "print(Promotelist)\n",
    "\n",
    "BestStaff = serviceCheck([Jim,Eva,Tony])\n",
    "print(BestStaff)"
   ]
  },
  {
   "cell_type": "code",
   "execution_count": 4,
   "metadata": {},
   "outputs": [
    {
     "name": "stdout",
     "output_type": "stream",
     "text": [
      "Address:  145 Ponto road Area:  145 Revenue:  135000 Number of staff:  10\n"
     ]
    }
   ],
   "source": [
    "# Testing module FnB class in subpackage OP of module FnB\n",
    "\n",
    "# Initial FnB class\n",
    "Timhortons_Kelowna = FnB(\"145 Ponto road\", 145, 135000, 10)\n",
    "Timhortons_Kelowna.info()"
   ]
  },
  {
   "cell_type": "code",
   "execution_count": 5,
   "metadata": {},
   "outputs": [
    {
     "name": "stdout",
     "output_type": "stream",
     "text": [
      "Address:  129 King street Area:  25 Revenue:  85000 Number of staff:  3\n",
      "Delivery channel:  UberEat\n"
     ]
    }
   ],
   "source": [
    "# Initial DeliveryFnB class\n",
    "NumberOneKFC = DeliveryFnB(\"129 King street\", 25, 85000, 3,\"UberEat\")\n",
    "NumberOneKFC.info()"
   ]
  },
  {
   "cell_type": "code",
   "execution_count": 6,
   "metadata": {},
   "outputs": [
    {
     "name": "stdout",
     "output_type": "stream",
     "text": [
      "Address:  129 King street Area:  25 Revenue:  85000 Number of staff:  3\n",
      "Delivery channel:  UberEat\n"
     ]
    }
   ],
   "source": [
    "# Using compare function\n",
    "BetterRestaurant = compare(Timhortons_Kelowna,NumberOneKFC)\n",
    "BetterRestaurant.info()\n"
   ]
  },
  {
   "cell_type": "code",
   "execution_count": 7,
   "metadata": {},
   "outputs": [
    {
     "name": "stdout",
     "output_type": "stream",
     "text": [
      "Restaurant 1: 10   Restaurant 2: 3\n",
      "Restaurant 1: 8   Restaurant 2: 5\n"
     ]
    }
   ],
   "source": [
    "# Using transfer function\n",
    "print(\"Restaurant 1:\",Timhortons_Kelowna.staffnum,\" \", \"Restaurant 2:\",NumberOneKFC.staffnum)\n",
    "if staffTransfer(NumberOneKFC,Timhortons_Kelowna,2) == 1:\n",
    "    print(\"Restaurant 1:\",Timhortons_Kelowna.staffnum,\" \", \"Restaurant 2:\",NumberOneKFC.staffnum)\n",
    "\n"
   ]
  }
 ],
 "metadata": {
  "file_extension": ".py",
  "kernelspec": {
   "display_name": "Python 3",
   "language": "python",
   "name": "python3"
  },
  "language_info": {
   "codemirror_mode": {
    "name": "ipython",
    "version": 3
   },
   "file_extension": ".py",
   "mimetype": "text/x-python",
   "name": "python",
   "nbconvert_exporter": "python",
   "pygments_lexer": "ipython3",
   "version": "3.7.3"
  },
  "mimetype": "text/x-python",
  "name": "python",
  "npconvert_exporter": "python",
  "pygments_lexer": "ipython3",
  "version": 3
 },
 "nbformat": 4,
 "nbformat_minor": 2
}
